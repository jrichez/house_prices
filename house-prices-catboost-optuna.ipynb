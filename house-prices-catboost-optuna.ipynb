{
 "cells": [
  {
   "cell_type": "code",
   "execution_count": 1,
   "id": "ff94f60c",
   "metadata": {
    "_cell_guid": "b1076dfc-b9ad-4769-8c92-a6c4dae69d19",
    "_uuid": "8f2839f25d086af736a60e9eeb907d3b93b6e0e5",
    "execution": {
     "iopub.execute_input": "2021-11-30T14:15:43.407899Z",
     "iopub.status.busy": "2021-11-30T14:15:43.406047Z",
     "iopub.status.idle": "2021-11-30T14:15:43.425708Z",
     "shell.execute_reply": "2021-11-30T14:15:43.424917Z",
     "shell.execute_reply.started": "2021-11-30T12:06:40.701632Z"
    },
    "papermill": {
     "duration": 0.076738,
     "end_time": "2021-11-30T14:15:43.425913",
     "exception": false,
     "start_time": "2021-11-30T14:15:43.349175",
     "status": "completed"
    },
    "tags": []
   },
   "outputs": [
    {
     "name": "stdout",
     "output_type": "stream",
     "text": [
      "/kaggle/input/house-prices-advanced-regression-techniques/sample_submission.csv\n",
      "/kaggle/input/house-prices-advanced-regression-techniques/data_description.txt\n",
      "/kaggle/input/house-prices-advanced-regression-techniques/train.csv\n",
      "/kaggle/input/house-prices-advanced-regression-techniques/test.csv\n"
     ]
    }
   ],
   "source": [
    "# This Python 3 environment comes with many helpful analytics libraries installed\n",
    "# It is defined by the kaggle/python Docker image: https://github.com/kaggle/docker-python\n",
    "# For example, here's several helpful packages to load\n",
    "\n",
    "import numpy as np # linear algebra\n",
    "import pandas as pd # data processing, CSV file I/O (e.g. pd.read_csv)\n",
    "\n",
    "# Input data files are available in the read-only \"../input/\" directory\n",
    "# For example, running this (by clicking run or pressing Shift+Enter) will list all files under the input directory\n",
    "\n",
    "import os\n",
    "for dirname, _, filenames in os.walk('/kaggle/input'):\n",
    "    for filename in filenames:\n",
    "        print(os.path.join(dirname, filename))\n",
    "\n",
    "# You can write up to 20GB to the current directory (/kaggle/working/) that gets preserved as output when you create a version using \"Save & Run All\" \n",
    "# You can also write temporary files to /kaggle/temp/, but they won't be saved outside of the current session"
   ]
  },
  {
   "cell_type": "code",
   "execution_count": 2,
   "id": "05398b72",
   "metadata": {
    "execution": {
     "iopub.execute_input": "2021-11-30T14:15:43.532382Z",
     "iopub.status.busy": "2021-11-30T14:15:43.531417Z",
     "iopub.status.idle": "2021-11-30T14:15:43.610530Z",
     "shell.execute_reply": "2021-11-30T14:15:43.611064Z",
     "shell.execute_reply.started": "2021-11-30T12:06:40.726911Z"
    },
    "papermill": {
     "duration": 0.134845,
     "end_time": "2021-11-30T14:15:43.611272",
     "exception": false,
     "start_time": "2021-11-30T14:15:43.476427",
     "status": "completed"
    },
    "tags": []
   },
   "outputs": [
    {
     "data": {
      "text/html": [
       "<div>\n",
       "<style scoped>\n",
       "    .dataframe tbody tr th:only-of-type {\n",
       "        vertical-align: middle;\n",
       "    }\n",
       "\n",
       "    .dataframe tbody tr th {\n",
       "        vertical-align: top;\n",
       "    }\n",
       "\n",
       "    .dataframe thead th {\n",
       "        text-align: right;\n",
       "    }\n",
       "</style>\n",
       "<table border=\"1\" class=\"dataframe\">\n",
       "  <thead>\n",
       "    <tr style=\"text-align: right;\">\n",
       "      <th></th>\n",
       "      <th>Id</th>\n",
       "      <th>MSSubClass</th>\n",
       "      <th>MSZoning</th>\n",
       "      <th>LotFrontage</th>\n",
       "      <th>LotArea</th>\n",
       "      <th>Street</th>\n",
       "      <th>Alley</th>\n",
       "      <th>LotShape</th>\n",
       "      <th>LandContour</th>\n",
       "      <th>Utilities</th>\n",
       "      <th>...</th>\n",
       "      <th>PoolArea</th>\n",
       "      <th>PoolQC</th>\n",
       "      <th>Fence</th>\n",
       "      <th>MiscFeature</th>\n",
       "      <th>MiscVal</th>\n",
       "      <th>MoSold</th>\n",
       "      <th>YrSold</th>\n",
       "      <th>SaleType</th>\n",
       "      <th>SaleCondition</th>\n",
       "      <th>SalePrice</th>\n",
       "    </tr>\n",
       "  </thead>\n",
       "  <tbody>\n",
       "    <tr>\n",
       "      <th>0</th>\n",
       "      <td>1</td>\n",
       "      <td>60</td>\n",
       "      <td>RL</td>\n",
       "      <td>65.0</td>\n",
       "      <td>8450</td>\n",
       "      <td>Pave</td>\n",
       "      <td>NaN</td>\n",
       "      <td>Reg</td>\n",
       "      <td>Lvl</td>\n",
       "      <td>AllPub</td>\n",
       "      <td>...</td>\n",
       "      <td>0</td>\n",
       "      <td>NaN</td>\n",
       "      <td>NaN</td>\n",
       "      <td>NaN</td>\n",
       "      <td>0</td>\n",
       "      <td>2</td>\n",
       "      <td>2008</td>\n",
       "      <td>WD</td>\n",
       "      <td>Normal</td>\n",
       "      <td>208500</td>\n",
       "    </tr>\n",
       "    <tr>\n",
       "      <th>1</th>\n",
       "      <td>2</td>\n",
       "      <td>20</td>\n",
       "      <td>RL</td>\n",
       "      <td>80.0</td>\n",
       "      <td>9600</td>\n",
       "      <td>Pave</td>\n",
       "      <td>NaN</td>\n",
       "      <td>Reg</td>\n",
       "      <td>Lvl</td>\n",
       "      <td>AllPub</td>\n",
       "      <td>...</td>\n",
       "      <td>0</td>\n",
       "      <td>NaN</td>\n",
       "      <td>NaN</td>\n",
       "      <td>NaN</td>\n",
       "      <td>0</td>\n",
       "      <td>5</td>\n",
       "      <td>2007</td>\n",
       "      <td>WD</td>\n",
       "      <td>Normal</td>\n",
       "      <td>181500</td>\n",
       "    </tr>\n",
       "    <tr>\n",
       "      <th>2</th>\n",
       "      <td>3</td>\n",
       "      <td>60</td>\n",
       "      <td>RL</td>\n",
       "      <td>68.0</td>\n",
       "      <td>11250</td>\n",
       "      <td>Pave</td>\n",
       "      <td>NaN</td>\n",
       "      <td>IR1</td>\n",
       "      <td>Lvl</td>\n",
       "      <td>AllPub</td>\n",
       "      <td>...</td>\n",
       "      <td>0</td>\n",
       "      <td>NaN</td>\n",
       "      <td>NaN</td>\n",
       "      <td>NaN</td>\n",
       "      <td>0</td>\n",
       "      <td>9</td>\n",
       "      <td>2008</td>\n",
       "      <td>WD</td>\n",
       "      <td>Normal</td>\n",
       "      <td>223500</td>\n",
       "    </tr>\n",
       "    <tr>\n",
       "      <th>3</th>\n",
       "      <td>4</td>\n",
       "      <td>70</td>\n",
       "      <td>RL</td>\n",
       "      <td>60.0</td>\n",
       "      <td>9550</td>\n",
       "      <td>Pave</td>\n",
       "      <td>NaN</td>\n",
       "      <td>IR1</td>\n",
       "      <td>Lvl</td>\n",
       "      <td>AllPub</td>\n",
       "      <td>...</td>\n",
       "      <td>0</td>\n",
       "      <td>NaN</td>\n",
       "      <td>NaN</td>\n",
       "      <td>NaN</td>\n",
       "      <td>0</td>\n",
       "      <td>2</td>\n",
       "      <td>2006</td>\n",
       "      <td>WD</td>\n",
       "      <td>Abnorml</td>\n",
       "      <td>140000</td>\n",
       "    </tr>\n",
       "    <tr>\n",
       "      <th>4</th>\n",
       "      <td>5</td>\n",
       "      <td>60</td>\n",
       "      <td>RL</td>\n",
       "      <td>84.0</td>\n",
       "      <td>14260</td>\n",
       "      <td>Pave</td>\n",
       "      <td>NaN</td>\n",
       "      <td>IR1</td>\n",
       "      <td>Lvl</td>\n",
       "      <td>AllPub</td>\n",
       "      <td>...</td>\n",
       "      <td>0</td>\n",
       "      <td>NaN</td>\n",
       "      <td>NaN</td>\n",
       "      <td>NaN</td>\n",
       "      <td>0</td>\n",
       "      <td>12</td>\n",
       "      <td>2008</td>\n",
       "      <td>WD</td>\n",
       "      <td>Normal</td>\n",
       "      <td>250000</td>\n",
       "    </tr>\n",
       "  </tbody>\n",
       "</table>\n",
       "<p>5 rows × 81 columns</p>\n",
       "</div>"
      ],
      "text/plain": [
       "   Id  MSSubClass MSZoning  LotFrontage  LotArea Street Alley LotShape  \\\n",
       "0   1          60       RL         65.0     8450   Pave   NaN      Reg   \n",
       "1   2          20       RL         80.0     9600   Pave   NaN      Reg   \n",
       "2   3          60       RL         68.0    11250   Pave   NaN      IR1   \n",
       "3   4          70       RL         60.0     9550   Pave   NaN      IR1   \n",
       "4   5          60       RL         84.0    14260   Pave   NaN      IR1   \n",
       "\n",
       "  LandContour Utilities  ... PoolArea PoolQC Fence MiscFeature MiscVal MoSold  \\\n",
       "0         Lvl    AllPub  ...        0    NaN   NaN         NaN       0      2   \n",
       "1         Lvl    AllPub  ...        0    NaN   NaN         NaN       0      5   \n",
       "2         Lvl    AllPub  ...        0    NaN   NaN         NaN       0      9   \n",
       "3         Lvl    AllPub  ...        0    NaN   NaN         NaN       0      2   \n",
       "4         Lvl    AllPub  ...        0    NaN   NaN         NaN       0     12   \n",
       "\n",
       "  YrSold  SaleType  SaleCondition  SalePrice  \n",
       "0   2008        WD         Normal     208500  \n",
       "1   2007        WD         Normal     181500  \n",
       "2   2008        WD         Normal     223500  \n",
       "3   2006        WD        Abnorml     140000  \n",
       "4   2008        WD         Normal     250000  \n",
       "\n",
       "[5 rows x 81 columns]"
      ]
     },
     "execution_count": 2,
     "metadata": {},
     "output_type": "execute_result"
    }
   ],
   "source": [
    "df_train = pd.read_csv('/kaggle/input/house-prices-advanced-regression-techniques/train.csv')\n",
    "df_train.head()"
   ]
  },
  {
   "cell_type": "code",
   "execution_count": 3,
   "id": "5be29bcc",
   "metadata": {
    "execution": {
     "iopub.execute_input": "2021-11-30T14:15:43.725432Z",
     "iopub.status.busy": "2021-11-30T14:15:43.724269Z",
     "iopub.status.idle": "2021-11-30T14:15:43.783021Z",
     "shell.execute_reply": "2021-11-30T14:15:43.782137Z",
     "shell.execute_reply.started": "2021-11-30T12:06:40.796964Z"
    },
    "papermill": {
     "duration": 0.120823,
     "end_time": "2021-11-30T14:15:43.783245",
     "exception": false,
     "start_time": "2021-11-30T14:15:43.662422",
     "status": "completed"
    },
    "tags": []
   },
   "outputs": [],
   "source": [
    "df_test = pd.read_csv('/kaggle/input/house-prices-advanced-regression-techniques/test.csv')\n",
    "sub = pd.read_csv('/kaggle/input/house-prices-advanced-regression-techniques/sample_submission.csv')"
   ]
  },
  {
   "cell_type": "code",
   "execution_count": 4,
   "id": "10a16a04",
   "metadata": {
    "execution": {
     "iopub.execute_input": "2021-11-30T14:15:43.898791Z",
     "iopub.status.busy": "2021-11-30T14:15:43.897554Z",
     "iopub.status.idle": "2021-11-30T14:15:43.921912Z",
     "shell.execute_reply": "2021-11-30T14:15:43.922539Z",
     "shell.execute_reply.started": "2021-11-30T12:07:39.276655Z"
    },
    "papermill": {
     "duration": 0.087866,
     "end_time": "2021-11-30T14:15:43.922761",
     "exception": false,
     "start_time": "2021-11-30T14:15:43.834895",
     "status": "completed"
    },
    "tags": []
   },
   "outputs": [
    {
     "data": {
      "text/plain": [
       "(2919, 81)"
      ]
     },
     "execution_count": 4,
     "metadata": {},
     "output_type": "execute_result"
    }
   ],
   "source": [
    "df = pd.concat([df_train,df_test], axis=0, sort=False)\n",
    "df.shape"
   ]
  },
  {
   "cell_type": "code",
   "execution_count": 5,
   "id": "32e7b325",
   "metadata": {
    "execution": {
     "iopub.execute_input": "2021-11-30T14:15:44.038266Z",
     "iopub.status.busy": "2021-11-30T14:15:44.037290Z",
     "iopub.status.idle": "2021-11-30T14:15:44.062275Z",
     "shell.execute_reply": "2021-11-30T14:15:44.061526Z",
     "shell.execute_reply.started": "2021-11-30T12:07:39.651349Z"
    },
    "papermill": {
     "duration": 0.083894,
     "end_time": "2021-11-30T14:15:44.062440",
     "exception": false,
     "start_time": "2021-11-30T14:15:43.978546",
     "status": "completed"
    },
    "tags": []
   },
   "outputs": [],
   "source": [
    "df = df.set_index('Id')"
   ]
  },
  {
   "cell_type": "code",
   "execution_count": 6,
   "id": "6168d693",
   "metadata": {
    "execution": {
     "iopub.execute_input": "2021-11-30T14:15:44.240061Z",
     "iopub.status.busy": "2021-11-30T14:15:44.239327Z",
     "iopub.status.idle": "2021-11-30T14:15:44.243771Z",
     "shell.execute_reply": "2021-11-30T14:15:44.244240Z",
     "shell.execute_reply.started": "2021-11-30T12:07:40.370909Z"
    },
    "papermill": {
     "duration": 0.059477,
     "end_time": "2021-11-30T14:15:44.244422",
     "exception": false,
     "start_time": "2021-11-30T14:15:44.184945",
     "status": "completed"
    },
    "tags": []
   },
   "outputs": [],
   "source": [
    "train_id = df_train.shape[0]\n",
    "SEED = 66"
   ]
  },
  {
   "cell_type": "markdown",
   "id": "c19a5a25",
   "metadata": {
    "papermill": {
     "duration": 0.050199,
     "end_time": "2021-11-30T14:15:44.346700",
     "exception": false,
     "start_time": "2021-11-30T14:15:44.296501",
     "status": "completed"
    },
    "tags": []
   },
   "source": [
    "# **Missing values**"
   ]
  },
  {
   "cell_type": "code",
   "execution_count": 7,
   "id": "b6f958b5",
   "metadata": {
    "execution": {
     "iopub.execute_input": "2021-11-30T14:15:44.455744Z",
     "iopub.status.busy": "2021-11-30T14:15:44.454739Z",
     "iopub.status.idle": "2021-11-30T14:15:44.522076Z",
     "shell.execute_reply": "2021-11-30T14:15:44.521239Z",
     "shell.execute_reply.started": "2021-11-30T12:07:41.836885Z"
    },
    "papermill": {
     "duration": 0.124254,
     "end_time": "2021-11-30T14:15:44.522324",
     "exception": false,
     "start_time": "2021-11-30T14:15:44.398070",
     "status": "completed"
    },
    "tags": []
   },
   "outputs": [
    {
     "name": "stdout",
     "output_type": "stream",
     "text": [
      "MSZoning : 0.14 %\n",
      "LotFrontage : 16.65 %\n",
      "Alley : 93.22 %\n",
      "Utilities : 0.07 %\n",
      "Exterior1st : 0.03 %\n",
      "Exterior2nd : 0.03 %\n",
      "MasVnrType : 0.82 %\n",
      "MasVnrArea : 0.79 %\n",
      "BsmtQual : 2.77 %\n",
      "BsmtCond : 2.81 %\n",
      "BsmtExposure : 2.81 %\n",
      "BsmtFinType1 : 2.71 %\n",
      "BsmtFinSF1 : 0.03 %\n",
      "BsmtFinType2 : 2.74 %\n",
      "BsmtFinSF2 : 0.03 %\n",
      "BsmtUnfSF : 0.03 %\n",
      "TotalBsmtSF : 0.03 %\n",
      "Electrical : 0.03 %\n",
      "BsmtFullBath : 0.07 %\n",
      "BsmtHalfBath : 0.07 %\n",
      "KitchenQual : 0.03 %\n",
      "Functional : 0.07 %\n",
      "FireplaceQu : 48.65 %\n",
      "GarageType : 5.38 %\n",
      "GarageYrBlt : 5.45 %\n",
      "GarageFinish : 5.45 %\n",
      "GarageCars : 0.03 %\n",
      "GarageArea : 0.03 %\n",
      "GarageQual : 5.45 %\n",
      "GarageCond : 5.45 %\n",
      "PoolQC : 99.66 %\n",
      "Fence : 80.44 %\n",
      "MiscFeature : 96.4 %\n",
      "SaleType : 0.03 %\n",
      "SalePrice : 49.98 %\n"
     ]
    }
   ],
   "source": [
    "for i in df.columns:\n",
    "    if df[i].isna().sum() > 0:\n",
    "        print(i + ' : ' + str(round(df[i].isna().sum() / df.shape[0] * 100, 2)) + ' %')"
   ]
  },
  {
   "cell_type": "markdown",
   "id": "4f747021",
   "metadata": {
    "papermill": {
     "duration": 0.050429,
     "end_time": "2021-11-30T14:15:44.626673",
     "exception": false,
     "start_time": "2021-11-30T14:15:44.576244",
     "status": "completed"
    },
    "tags": []
   },
   "source": [
    "Several imputation strategies here depending on the data documentation"
   ]
  },
  {
   "cell_type": "code",
   "execution_count": 8,
   "id": "434a4aa0",
   "metadata": {
    "execution": {
     "iopub.execute_input": "2021-11-30T14:15:44.741370Z",
     "iopub.status.busy": "2021-11-30T14:15:44.740701Z",
     "iopub.status.idle": "2021-11-30T14:15:44.743713Z",
     "shell.execute_reply": "2021-11-30T14:15:44.743179Z",
     "shell.execute_reply.started": "2021-11-30T12:07:43.437142Z"
    },
    "papermill": {
     "duration": 0.065984,
     "end_time": "2021-11-30T14:15:44.743874",
     "exception": false,
     "start_time": "2021-11-30T14:15:44.677890",
     "status": "completed"
    },
    "tags": []
   },
   "outputs": [],
   "source": [
    "to_fill_none = ['Alley', 'MasVnrType', 'BsmtQual', 'BsmtCond', 'BsmtExposure', 'BsmtFinType1', 'BsmtFinType2', 'FireplaceQu', 'GarageType', 'GarageFinish', 'GarageQual', 'GarageCond', 'PoolQC', 'Fence', 'MiscFeature', 'Exterior2nd']\n",
    "to_fill_0 = ['LotFrontage', 'MasVnrArea', 'BsmtUnfSF', 'TotalBsmtSF', 'BsmtFullBath', 'BsmtHalfBath', 'GarageArea', 'BsmtFinSF1', 'BsmtFinSF2', 'GarageCars']\n",
    "to_fill_freq = ['GarageYrBlt', 'Electrical', 'MSZoning', 'Utilities', 'KitchenQual', 'Functional', 'Exterior1st', 'SaleType']"
   ]
  },
  {
   "cell_type": "code",
   "execution_count": 9,
   "id": "8839c9dd",
   "metadata": {
    "execution": {
     "iopub.execute_input": "2021-11-30T14:15:44.863519Z",
     "iopub.status.busy": "2021-11-30T14:15:44.862828Z",
     "iopub.status.idle": "2021-11-30T14:15:44.864970Z",
     "shell.execute_reply": "2021-11-30T14:15:44.865431Z",
     "shell.execute_reply.started": "2021-11-30T12:07:43.837190Z"
    },
    "papermill": {
     "duration": 0.070659,
     "end_time": "2021-11-30T14:15:44.865662",
     "exception": false,
     "start_time": "2021-11-30T14:15:44.795003",
     "status": "completed"
    },
    "tags": []
   },
   "outputs": [],
   "source": [
    "for i in to_fill_none:\n",
    "    df[i].fillna('None', inplace=True)"
   ]
  },
  {
   "cell_type": "code",
   "execution_count": 10,
   "id": "fcacd73e",
   "metadata": {
    "execution": {
     "iopub.execute_input": "2021-11-30T14:15:44.974888Z",
     "iopub.status.busy": "2021-11-30T14:15:44.974174Z",
     "iopub.status.idle": "2021-11-30T14:15:44.977418Z",
     "shell.execute_reply": "2021-11-30T14:15:44.976843Z",
     "shell.execute_reply.started": "2021-11-30T12:07:44.171977Z"
    },
    "papermill": {
     "duration": 0.060311,
     "end_time": "2021-11-30T14:15:44.977580",
     "exception": false,
     "start_time": "2021-11-30T14:15:44.917269",
     "status": "completed"
    },
    "tags": []
   },
   "outputs": [],
   "source": [
    "for i in to_fill_0:\n",
    "    df[i].fillna(0, inplace=True)"
   ]
  },
  {
   "cell_type": "markdown",
   "id": "9e737a02",
   "metadata": {
    "papermill": {
     "duration": 0.050336,
     "end_time": "2021-11-30T14:15:45.079862",
     "exception": false,
     "start_time": "2021-11-30T14:15:45.029526",
     "status": "completed"
    },
    "tags": []
   },
   "source": [
    "To avoid data leakage we'll take the most frequent values on the train set"
   ]
  },
  {
   "cell_type": "code",
   "execution_count": 11,
   "id": "c6b78c1f",
   "metadata": {
    "execution": {
     "iopub.execute_input": "2021-11-30T14:15:45.184684Z",
     "iopub.status.busy": "2021-11-30T14:15:45.184022Z",
     "iopub.status.idle": "2021-11-30T14:15:45.203076Z",
     "shell.execute_reply": "2021-11-30T14:15:45.202453Z",
     "shell.execute_reply.started": "2021-11-30T12:07:45.651624Z"
    },
    "papermill": {
     "duration": 0.072665,
     "end_time": "2021-11-30T14:15:45.203247",
     "exception": false,
     "start_time": "2021-11-30T14:15:45.130582",
     "status": "completed"
    },
    "tags": []
   },
   "outputs": [],
   "source": [
    "for i in to_fill_freq:\n",
    "    df[i].fillna(df[i][:train_id].mode().item(), inplace=True)"
   ]
  },
  {
   "cell_type": "markdown",
   "id": "c20968bf",
   "metadata": {
    "papermill": {
     "duration": 0.050173,
     "end_time": "2021-11-30T14:15:45.305977",
     "exception": false,
     "start_time": "2021-11-30T14:15:45.255804",
     "status": "completed"
    },
    "tags": []
   },
   "source": [
    "# **Baseline model**"
   ]
  },
  {
   "cell_type": "code",
   "execution_count": 12,
   "id": "57803a32",
   "metadata": {
    "execution": {
     "iopub.execute_input": "2021-11-30T14:15:45.416870Z",
     "iopub.status.busy": "2021-11-30T14:15:45.416020Z",
     "iopub.status.idle": "2021-11-30T14:15:48.048905Z",
     "shell.execute_reply": "2021-11-30T14:15:48.048199Z",
     "shell.execute_reply.started": "2021-11-30T12:07:48.867563Z"
    },
    "papermill": {
     "duration": 2.692416,
     "end_time": "2021-11-30T14:15:48.049072",
     "exception": false,
     "start_time": "2021-11-30T14:15:45.356656",
     "status": "completed"
    },
    "tags": []
   },
   "outputs": [
    {
     "data": {
      "text/html": [
       "<style type='text/css'>\n",
       ".datatable table.frame { margin-bottom: 0; }\n",
       ".datatable table.frame thead { border-bottom: none; }\n",
       ".datatable table.frame tr.coltypes td {  color: #FFFFFF;  line-height: 6px;  padding: 0 0.5em;}\n",
       ".datatable .bool    { background: #DDDD99; }\n",
       ".datatable .object  { background: #565656; }\n",
       ".datatable .int     { background: #5D9E5D; }\n",
       ".datatable .float   { background: #4040CC; }\n",
       ".datatable .str     { background: #CC4040; }\n",
       ".datatable .time    { background: #40CC40; }\n",
       ".datatable .row_index {  background: var(--jp-border-color3);  border-right: 1px solid var(--jp-border-color0);  color: var(--jp-ui-font-color3);  font-size: 9px;}\n",
       ".datatable .frame tbody td { text-align: left; }\n",
       ".datatable .frame tr.coltypes .row_index {  background: var(--jp-border-color0);}\n",
       ".datatable th:nth-child(2) { padding-left: 12px; }\n",
       ".datatable .hellipsis {  color: var(--jp-cell-editor-border-color);}\n",
       ".datatable .vellipsis {  background: var(--jp-layout-color0);  color: var(--jp-cell-editor-border-color);}\n",
       ".datatable .na {  color: var(--jp-cell-editor-border-color);  font-size: 80%;}\n",
       ".datatable .sp {  opacity: 0.25;}\n",
       ".datatable .footer { font-size: 9px; }\n",
       ".datatable .frame_dimensions {  background: var(--jp-border-color3);  border-top: 1px solid var(--jp-border-color0);  color: var(--jp-ui-font-color3);  display: inline-block;  opacity: 0.6;  padding: 1px 10px 1px 5px;}\n",
       "</style>\n"
      ],
      "text/plain": [
       "<IPython.core.display.HTML object>"
      ]
     },
     "metadata": {},
     "output_type": "display_data"
    }
   ],
   "source": [
    "# Preprocessing\n",
    "from sklearn.preprocessing import LabelEncoder \n",
    "from sklearn.model_selection import train_test_split\n",
    "from sklearn.preprocessing import StandardScaler, MinMaxScaler, RobustScaler\n",
    "# Estimators\n",
    "from sklearn.ensemble import RandomForestRegressor\n",
    "from sklearn.linear_model import ElasticNet\n",
    "from lightgbm import LGBMRegressor\n",
    "from xgboost import XGBRegressor\n",
    "from catboost import CatBoostRegressor\n",
    "# Metrics\n",
    "from sklearn.metrics import mean_squared_error"
   ]
  },
  {
   "cell_type": "markdown",
   "id": "b1c866ce",
   "metadata": {
    "papermill": {
     "duration": 0.050953,
     "end_time": "2021-11-30T14:15:48.151821",
     "exception": false,
     "start_time": "2021-11-30T14:15:48.100868",
     "status": "completed"
    },
    "tags": []
   },
   "source": [
    "Let's define some functions to automate some tasks\n"
   ]
  },
  {
   "cell_type": "code",
   "execution_count": 13,
   "id": "0cf74033",
   "metadata": {
    "execution": {
     "iopub.execute_input": "2021-11-30T14:15:48.261930Z",
     "iopub.status.busy": "2021-11-30T14:15:48.261220Z",
     "iopub.status.idle": "2021-11-30T14:15:48.264542Z",
     "shell.execute_reply": "2021-11-30T14:15:48.263896Z",
     "shell.execute_reply.started": "2021-11-30T12:07:51.280489Z"
    },
    "papermill": {
     "duration": 0.061535,
     "end_time": "2021-11-30T14:15:48.264749",
     "exception": false,
     "start_time": "2021-11-30T14:15:48.203214",
     "status": "completed"
    },
    "tags": []
   },
   "outputs": [],
   "source": [
    "# We'll use label encoder by default\n",
    "def encoder(dataset, encoder=LabelEncoder()):\n",
    "    var_obj = dataset.select_dtypes(include='object').columns\n",
    "    dataset_cop = dataset.copy()\n",
    "    le = encoder\n",
    "    for i in var_obj:\n",
    "        dataset_cop[i] = le.fit_transform(dataset_cop[i])\n",
    "    return dataset_cop"
   ]
  },
  {
   "cell_type": "code",
   "execution_count": 14,
   "id": "85c73ca3",
   "metadata": {
    "execution": {
     "iopub.execute_input": "2021-11-30T14:15:48.375211Z",
     "iopub.status.busy": "2021-11-30T14:15:48.374484Z",
     "iopub.status.idle": "2021-11-30T14:15:48.377692Z",
     "shell.execute_reply": "2021-11-30T14:15:48.377042Z",
     "shell.execute_reply.started": "2021-11-30T12:07:51.866983Z"
    },
    "papermill": {
     "duration": 0.06086,
     "end_time": "2021-11-30T14:15:48.377852",
     "exception": false,
     "start_time": "2021-11-30T14:15:48.316992",
     "status": "completed"
    },
    "tags": []
   },
   "outputs": [],
   "source": [
    "def get_data(dataset):\n",
    "    \n",
    "    dataset = encoder(dataset)\n",
    "    \n",
    "    df_test = dataset[dataset.index > train_id].copy()\n",
    "    X = dataset.loc[set(dataset.index) - set(df_test.index)].copy()\n",
    "    y = X.pop('SalePrice')\n",
    "    \n",
    "    return X, y, df_test"
   ]
  },
  {
   "cell_type": "code",
   "execution_count": 15,
   "id": "950ce850",
   "metadata": {
    "execution": {
     "iopub.execute_input": "2021-11-30T14:15:48.489700Z",
     "iopub.status.busy": "2021-11-30T14:15:48.488590Z",
     "iopub.status.idle": "2021-11-30T14:15:48.490639Z",
     "shell.execute_reply": "2021-11-30T14:15:48.491294Z",
     "shell.execute_reply.started": "2021-11-30T12:07:52.787120Z"
    },
    "papermill": {
     "duration": 0.061005,
     "end_time": "2021-11-30T14:15:48.491499",
     "exception": false,
     "start_time": "2021-11-30T14:15:48.430494",
     "status": "completed"
    },
    "tags": []
   },
   "outputs": [],
   "source": [
    "def split(X, y, seed=SEED):\n",
    "    X_train, X_test, y_train, y_test = train_test_split(X, y, random_state=seed)\n",
    "    return X_train, X_test, y_train, y_test"
   ]
  },
  {
   "cell_type": "code",
   "execution_count": 16,
   "id": "0afe1f88",
   "metadata": {
    "execution": {
     "iopub.execute_input": "2021-11-30T14:15:48.599275Z",
     "iopub.status.busy": "2021-11-30T14:15:48.598253Z",
     "iopub.status.idle": "2021-11-30T14:15:48.604376Z",
     "shell.execute_reply": "2021-11-30T14:15:48.604858Z",
     "shell.execute_reply.started": "2021-11-30T12:07:53.165365Z"
    },
    "papermill": {
     "duration": 0.062434,
     "end_time": "2021-11-30T14:15:48.605052",
     "exception": false,
     "start_time": "2021-11-30T14:15:48.542618",
     "status": "completed"
    },
    "tags": []
   },
   "outputs": [],
   "source": [
    "def scaler(X_train, X_test, scaler_func, df_test=None):\n",
    "    scal = scaler_func\n",
    "    X_train = scal.fit_transform(X_train)\n",
    "    X_test = scal.transform(X_test)\n",
    "    if df_test is not None:\n",
    "        df_test.drop('SalePrice', axis=1, inplace=True)\n",
    "        df_test = scal.transform(df_test)\n",
    "    return X_train, X_test, df_test"
   ]
  },
  {
   "cell_type": "code",
   "execution_count": 17,
   "id": "60edbe93",
   "metadata": {
    "execution": {
     "iopub.execute_input": "2021-11-30T14:15:48.715325Z",
     "iopub.status.busy": "2021-11-30T14:15:48.714556Z",
     "iopub.status.idle": "2021-11-30T14:15:48.717178Z",
     "shell.execute_reply": "2021-11-30T14:15:48.717667Z",
     "shell.execute_reply.started": "2021-11-30T12:07:53.687253Z"
    },
    "papermill": {
     "duration": 0.061357,
     "end_time": "2021-11-30T14:15:48.717844",
     "exception": false,
     "start_time": "2021-11-30T14:15:48.656487",
     "status": "completed"
    },
    "tags": []
   },
   "outputs": [],
   "source": [
    "# we'll use standard scaler by default\n",
    "def get_score(dataset, estimator, scaler_func=StandardScaler()):\n",
    "    \n",
    "    dataset = encoder(dataset)\n",
    "    \n",
    "    X, y, _ = get_data(dataset)\n",
    "    \n",
    "    X_train, X_test, y_train, y_test = split(X, y)\n",
    "    \n",
    "    X_train, X_test, _ = scaler(X_train, X_test, scaler_func)\n",
    "    \n",
    "    model = estimator.fit(X_train, y_train)\n",
    "    pred = model.predict(X_test)\n",
    "    # we use log to be on the same scale than the leaderboard\n",
    "    score = mean_squared_error(np.log(y_test), np.log(pred), squared=False)\n",
    "    return score"
   ]
  },
  {
   "cell_type": "code",
   "execution_count": 18,
   "id": "93970f77",
   "metadata": {
    "execution": {
     "iopub.execute_input": "2021-11-30T14:15:48.831268Z",
     "iopub.status.busy": "2021-11-30T14:15:48.830573Z",
     "iopub.status.idle": "2021-11-30T14:15:55.989655Z",
     "shell.execute_reply": "2021-11-30T14:15:55.990547Z",
     "shell.execute_reply.started": "2021-11-30T12:07:58.699347Z"
    },
    "papermill": {
     "duration": 7.221768,
     "end_time": "2021-11-30T14:15:55.990852",
     "exception": false,
     "start_time": "2021-11-30T14:15:48.769084",
     "status": "completed"
    },
    "tags": []
   },
   "outputs": [
    {
     "name": "stdout",
     "output_type": "stream",
     "text": [
      "RandomForestRegressor() : 0.1494334162373545\n",
      "LGBMRegressor() : 0.14083065067072237\n",
      "XGBRegressor(base_score=None, booster=None, colsample_bylevel=None,\n",
      "             colsample_bynode=None, colsample_bytree=None,\n",
      "             enable_categorical=False, gamma=None, gpu_id=None,\n",
      "             importance_type=None, interaction_constraints=None,\n",
      "             learning_rate=None, max_delta_step=None, max_depth=None,\n",
      "             min_child_weight=None, missing=nan, monotone_constraints=None,\n",
      "             n_estimators=100, n_jobs=None, num_parallel_tree=None,\n",
      "             predictor=None, random_state=None, reg_alpha=None, reg_lambda=None,\n",
      "             scale_pos_weight=None, subsample=None, tree_method=None,\n",
      "             validate_parameters=None, verbosity=None) : 0.15020459468393965\n",
      "<catboost.core.CatBoostRegressor object at 0x7ff718f596d0> : 0.12446103454351305\n",
      "ElasticNet(alpha=0.1, l1_ratio=0, random_state=6) : 0.16929505578301285\n"
     ]
    },
    {
     "name": "stderr",
     "output_type": "stream",
     "text": [
      "/opt/conda/lib/python3.7/site-packages/sklearn/linear_model/_coordinate_descent.py:531: ConvergenceWarning: Objective did not converge. You might want to increase the number of iterations. Duality gap: 597816507797.4038, tolerance: 721408818.9985667\n",
      "  positive)\n"
     ]
    }
   ],
   "source": [
    "models = [RandomForestRegressor(), LGBMRegressor(), XGBRegressor(), CatBoostRegressor(verbose=0), ElasticNet(alpha=0.1, l1_ratio=0, random_state=6)]\n",
    "for i in models:\n",
    "    print(str(i) + ' : ' + str(get_score(df, i)))"
   ]
  },
  {
   "cell_type": "markdown",
   "id": "9fef752c",
   "metadata": {
    "papermill": {
     "duration": 0.056931,
     "end_time": "2021-11-30T14:15:56.147262",
     "exception": false,
     "start_time": "2021-11-30T14:15:56.090331",
     "status": "completed"
    },
    "tags": []
   },
   "source": [
    "I'll chose Catboost as estimator"
   ]
  },
  {
   "cell_type": "markdown",
   "id": "8d1d70c9",
   "metadata": {
    "papermill": {
     "duration": 0.052366,
     "end_time": "2021-11-30T14:15:56.252670",
     "exception": false,
     "start_time": "2021-11-30T14:15:56.200304",
     "status": "completed"
    },
    "tags": []
   },
   "source": [
    "# **Outliers**"
   ]
  },
  {
   "cell_type": "markdown",
   "id": "826f39b4",
   "metadata": {
    "papermill": {
     "duration": 0.05246,
     "end_time": "2021-11-30T14:15:56.357696",
     "exception": false,
     "start_time": "2021-11-30T14:15:56.305236",
     "status": "completed"
    },
    "tags": []
   },
   "source": [
    "Let's take a look at the distribution of numerical variables"
   ]
  },
  {
   "cell_type": "code",
   "execution_count": 19,
   "id": "358f2113",
   "metadata": {
    "execution": {
     "iopub.execute_input": "2021-11-30T14:15:56.472103Z",
     "iopub.status.busy": "2021-11-30T14:15:56.471296Z",
     "iopub.status.idle": "2021-11-30T14:16:01.516740Z",
     "shell.execute_reply": "2021-11-30T14:16:01.517224Z",
     "shell.execute_reply.started": "2021-11-30T12:08:16.052119Z"
    },
    "papermill": {
     "duration": 5.106634,
     "end_time": "2021-11-30T14:16:01.517392",
     "exception": false,
     "start_time": "2021-11-30T14:15:56.410758",
     "status": "completed"
    },
    "tags": []
   },
   "outputs": [
    {
     "data": {
      "image/png": "[encoded data removed]",
      "text/plain": [
       "<Figure size 1440x2160 with 37 Axes>"
      ]
     },
     "metadata": {
      "needs_background": "light"
     },
     "output_type": "display_data"
    }
   ],
   "source": [
    "import warnings\n",
    "warnings.filterwarnings(\"ignore\")\n",
    "\n",
    "import matplotlib.pyplot as plt\n",
    "import seaborn as sns \n",
    "\n",
    "var_num = df.select_dtypes(include=['float', 'int']).columns\n",
    "c = 1 \n",
    "nrows = round(len(var_num) / 3) + 1\n",
    "fig = plt.figure(figsize=(20,30))\n",
    "for i in var_num:\n",
    "    plt.subplot(nrows, 3, c)\n",
    "    sns.boxplot(df[i])\n",
    "    c += 1 \n",
    "plt.tight_layout()\n",
    "plt.show()"
   ]
  },
  {
   "cell_type": "markdown",
   "id": "c409c81e",
   "metadata": {
    "papermill": {
     "duration": 0.057132,
     "end_time": "2021-11-30T14:16:01.630334",
     "exception": false,
     "start_time": "2021-11-30T14:16:01.573202",
     "status": "completed"
    },
    "tags": []
   },
   "source": [
    "Some cleans due to visual inspection "
   ]
  },
  {
   "cell_type": "code",
   "execution_count": 20,
   "id": "61316db4",
   "metadata": {
    "execution": {
     "iopub.execute_input": "2021-11-30T14:16:01.745795Z",
     "iopub.status.busy": "2021-11-30T14:16:01.745166Z",
     "iopub.status.idle": "2021-11-30T14:16:01.768905Z",
     "shell.execute_reply": "2021-11-30T14:16:01.769448Z",
     "shell.execute_reply.started": "2021-11-30T12:08:26.548494Z"
    },
    "papermill": {
     "duration": 0.083285,
     "end_time": "2021-11-30T14:16:01.769636",
     "exception": false,
     "start_time": "2021-11-30T14:16:01.686351",
     "status": "completed"
    },
    "tags": []
   },
   "outputs": [
    {
     "data": {
      "text/html": [
       "<div>\n",
       "<style scoped>\n",
       "    .dataframe tbody tr th:only-of-type {\n",
       "        vertical-align: middle;\n",
       "    }\n",
       "\n",
       "    .dataframe tbody tr th {\n",
       "        vertical-align: top;\n",
       "    }\n",
       "\n",
       "    .dataframe thead th {\n",
       "        text-align: right;\n",
       "    }\n",
       "</style>\n",
       "<table border=\"1\" class=\"dataframe\">\n",
       "  <thead>\n",
       "    <tr style=\"text-align: right;\">\n",
       "      <th></th>\n",
       "      <th>MSSubClass</th>\n",
       "      <th>MSZoning</th>\n",
       "      <th>LotFrontage</th>\n",
       "      <th>LotArea</th>\n",
       "      <th>Street</th>\n",
       "      <th>Alley</th>\n",
       "      <th>LotShape</th>\n",
       "      <th>LandContour</th>\n",
       "      <th>Utilities</th>\n",
       "      <th>LotConfig</th>\n",
       "      <th>...</th>\n",
       "      <th>PoolArea</th>\n",
       "      <th>PoolQC</th>\n",
       "      <th>Fence</th>\n",
       "      <th>MiscFeature</th>\n",
       "      <th>MiscVal</th>\n",
       "      <th>MoSold</th>\n",
       "      <th>YrSold</th>\n",
       "      <th>SaleType</th>\n",
       "      <th>SaleCondition</th>\n",
       "      <th>SalePrice</th>\n",
       "    </tr>\n",
       "    <tr>\n",
       "      <th>Id</th>\n",
       "      <th></th>\n",
       "      <th></th>\n",
       "      <th></th>\n",
       "      <th></th>\n",
       "      <th></th>\n",
       "      <th></th>\n",
       "      <th></th>\n",
       "      <th></th>\n",
       "      <th></th>\n",
       "      <th></th>\n",
       "      <th></th>\n",
       "      <th></th>\n",
       "      <th></th>\n",
       "      <th></th>\n",
       "      <th></th>\n",
       "      <th></th>\n",
       "      <th></th>\n",
       "      <th></th>\n",
       "      <th></th>\n",
       "      <th></th>\n",
       "      <th></th>\n",
       "    </tr>\n",
       "  </thead>\n",
       "  <tbody>\n",
       "    <tr>\n",
       "      <th>2593</th>\n",
       "      <td>20</td>\n",
       "      <td>RL</td>\n",
       "      <td>68.0</td>\n",
       "      <td>8298</td>\n",
       "      <td>Pave</td>\n",
       "      <td>None</td>\n",
       "      <td>IR1</td>\n",
       "      <td>HLS</td>\n",
       "      <td>AllPub</td>\n",
       "      <td>Inside</td>\n",
       "      <td>...</td>\n",
       "      <td>0</td>\n",
       "      <td>None</td>\n",
       "      <td>None</td>\n",
       "      <td>None</td>\n",
       "      <td>0</td>\n",
       "      <td>9</td>\n",
       "      <td>2007</td>\n",
       "      <td>New</td>\n",
       "      <td>Partial</td>\n",
       "      <td>NaN</td>\n",
       "    </tr>\n",
       "  </tbody>\n",
       "</table>\n",
       "<p>1 rows × 80 columns</p>\n",
       "</div>"
      ],
      "text/plain": [
       "      MSSubClass MSZoning  LotFrontage  LotArea Street Alley LotShape  \\\n",
       "Id                                                                      \n",
       "2593          20       RL         68.0     8298   Pave  None      IR1   \n",
       "\n",
       "     LandContour Utilities LotConfig  ... PoolArea PoolQC Fence MiscFeature  \\\n",
       "Id                                    ...                                     \n",
       "2593         HLS    AllPub    Inside  ...        0   None  None        None   \n",
       "\n",
       "     MiscVal MoSold  YrSold  SaleType  SaleCondition  SalePrice  \n",
       "Id                                                               \n",
       "2593       0      9    2007       New        Partial        NaN  \n",
       "\n",
       "[1 rows x 80 columns]"
      ]
     },
     "execution_count": 20,
     "metadata": {},
     "output_type": "execute_result"
    }
   ],
   "source": [
    "df[df['GarageYrBlt'] > 2100]"
   ]
  },
  {
   "cell_type": "code",
   "execution_count": 21,
   "id": "f13b3956",
   "metadata": {
    "execution": {
     "iopub.execute_input": "2021-11-30T14:16:01.891135Z",
     "iopub.status.busy": "2021-11-30T14:16:01.890463Z",
     "iopub.status.idle": "2021-11-30T14:16:01.892982Z",
     "shell.execute_reply": "2021-11-30T14:16:01.892402Z",
     "shell.execute_reply.started": "2021-11-30T12:08:27.995243Z"
    },
    "papermill": {
     "duration": 0.065895,
     "end_time": "2021-11-30T14:16:01.893132",
     "exception": false,
     "start_time": "2021-11-30T14:16:01.827237",
     "status": "completed"
    },
    "tags": []
   },
   "outputs": [],
   "source": [
    "df.loc[2593, 'GarageYrBlt'] = df.loc[2593, 'YearBuilt']"
   ]
  },
  {
   "cell_type": "markdown",
   "id": "69fb663f",
   "metadata": {
    "papermill": {
     "duration": 0.056271,
     "end_time": "2021-11-30T14:16:02.006200",
     "exception": false,
     "start_time": "2021-11-30T14:16:01.949929",
     "status": "completed"
    },
    "tags": []
   },
   "source": [
    "From the distribution of each features i selected those where dropping outliers could benefit the model"
   ]
  },
  {
   "cell_type": "code",
   "execution_count": 22,
   "id": "6e391e01",
   "metadata": {
    "execution": {
     "iopub.execute_input": "2021-11-30T14:16:02.126056Z",
     "iopub.status.busy": "2021-11-30T14:16:02.125378Z",
     "iopub.status.idle": "2021-11-30T14:16:02.127846Z",
     "shell.execute_reply": "2021-11-30T14:16:02.127255Z",
     "shell.execute_reply.started": "2021-11-30T12:08:33.187830Z"
    },
    "papermill": {
     "duration": 0.065116,
     "end_time": "2021-11-30T14:16:02.128000",
     "exception": false,
     "start_time": "2021-11-30T14:16:02.062884",
     "status": "completed"
    },
    "tags": []
   },
   "outputs": [],
   "source": [
    "contain_outliers = ['MSSubClass', 'LotFrontage', 'LotArea', 'MasVnrArea', 'BsmtFinSF1', 'BsmtUnfSF', 'TotalBsmtSF', '1stFlrSF', 'GrLivArea', 'WoodDeckSF', 'OpenPorchSF', 'EnclosedPorch', '3SsnPorch', 'ScreenPorch']"
   ]
  },
  {
   "cell_type": "markdown",
   "id": "b9e12920",
   "metadata": {
    "papermill": {
     "duration": 0.056291,
     "end_time": "2021-11-30T14:16:02.241310",
     "exception": false,
     "start_time": "2021-11-30T14:16:02.185019",
     "status": "completed"
    },
    "tags": []
   },
   "source": [
    "I define a function to test different rate where the observations above the rate will be deleted\n",
    "\n",
    "We'll drop outliers only from the train set"
   ]
  },
  {
   "cell_type": "code",
   "execution_count": 23,
   "id": "d6b54410",
   "metadata": {
    "execution": {
     "iopub.execute_input": "2021-11-30T14:16:02.363460Z",
     "iopub.status.busy": "2021-11-30T14:16:02.362776Z",
     "iopub.status.idle": "2021-11-30T14:16:02.365370Z",
     "shell.execute_reply": "2021-11-30T14:16:02.364871Z",
     "shell.execute_reply.started": "2021-11-30T12:08:36.291097Z"
    },
    "papermill": {
     "duration": 0.067808,
     "end_time": "2021-11-30T14:16:02.365526",
     "exception": false,
     "start_time": "2021-11-30T14:16:02.297718",
     "status": "completed"
    },
    "tags": []
   },
   "outputs": [],
   "source": [
    "def outliers(rate):\n",
    "    \n",
    "    train = df[:train_id]\n",
    "    limit = {}\n",
    "    \n",
    "    for i in contain_outliers:\n",
    "        limit[i] = train[i].quantile(rate)\n",
    "        \n",
    "    for i, j in limit.items():\n",
    "        train = train[train[i] < j]\n",
    "        \n",
    "    df_all = pd.concat([train, df[train_id:]])\n",
    "    \n",
    "    return str(rate) + ' : ' + str(get_score(df_all, CatBoostRegressor(verbose=0))) + ' : ' + str(df[:train_id].shape[0] - train.shape[0])"
   ]
  },
  {
   "cell_type": "code",
   "execution_count": 24,
   "id": "ca4b8cfd",
   "metadata": {
    "execution": {
     "iopub.execute_input": "2021-11-30T14:16:02.485337Z",
     "iopub.status.busy": "2021-11-30T14:16:02.484669Z",
     "iopub.status.idle": "2021-11-30T14:16:02.486952Z",
     "shell.execute_reply": "2021-11-30T14:16:02.487431Z",
     "shell.execute_reply.started": "2021-11-30T12:08:44.859114Z"
    },
    "papermill": {
     "duration": 0.064351,
     "end_time": "2021-11-30T14:16:02.487618",
     "exception": false,
     "start_time": "2021-11-30T14:16:02.423267",
     "status": "completed"
    },
    "tags": []
   },
   "outputs": [],
   "source": [
    "rate = [0.994, 0.995, 0.996, 0.997, 0.998, 0.999]"
   ]
  },
  {
   "cell_type": "code",
   "execution_count": 25,
   "id": "64742c11",
   "metadata": {
    "execution": {
     "iopub.execute_input": "2021-11-30T14:16:02.604568Z",
     "iopub.status.busy": "2021-11-30T14:16:02.603863Z",
     "iopub.status.idle": "2021-11-30T14:16:23.469493Z",
     "shell.execute_reply": "2021-11-30T14:16:23.468827Z",
     "shell.execute_reply.started": "2021-11-30T12:08:45.819381Z"
    },
    "papermill": {
     "duration": 20.925431,
     "end_time": "2021-11-30T14:16:23.469714",
     "exception": false,
     "start_time": "2021-11-30T14:16:02.544283",
     "status": "completed"
    },
    "tags": []
   },
   "outputs": [
    {
     "name": "stdout",
     "output_type": "stream",
     "text": [
      "0.994 : 0.10668243874611143 : 115\n",
      "0.995 : 0.1048420320457453 : 106\n",
      "0.996 : 0.10786803974332551 : 88\n",
      "0.997 : 0.12239802930350717 : 79\n",
      "0.998 : 0.11951868492331702 : 60\n",
      "0.999 : 0.09787184479507154 : 49\n"
     ]
    }
   ],
   "source": [
    "for i in rate:\n",
    "    print(outliers(i))"
   ]
  },
  {
   "cell_type": "markdown",
   "id": "e07020f3",
   "metadata": {
    "papermill": {
     "duration": 0.061501,
     "end_time": "2021-11-30T14:16:23.593515",
     "exception": false,
     "start_time": "2021-11-30T14:16:23.532014",
     "status": "completed"
    },
    "tags": []
   },
   "source": [
    "The rate 0.999 seems to lead at the best result\n",
    "\n",
    "We lost about fifty observations "
   ]
  },
  {
   "cell_type": "code",
   "execution_count": 26,
   "id": "e0ec5cfc",
   "metadata": {
    "execution": {
     "iopub.execute_input": "2021-11-30T14:16:23.727606Z",
     "iopub.status.busy": "2021-11-30T14:16:23.724820Z",
     "iopub.status.idle": "2021-11-30T14:16:23.739559Z",
     "shell.execute_reply": "2021-11-30T14:16:23.740153Z",
     "shell.execute_reply.started": "2021-11-30T12:09:20.949250Z"
    },
    "papermill": {
     "duration": 0.086889,
     "end_time": "2021-11-30T14:16:23.740373",
     "exception": false,
     "start_time": "2021-11-30T14:16:23.653484",
     "status": "completed"
    },
    "tags": []
   },
   "outputs": [],
   "source": [
    "train = df[:train_id]\n",
    "limit = {}\n",
    "for i in contain_outliers:\n",
    "    limit[i] = train[i].quantile(0.999)"
   ]
  },
  {
   "cell_type": "code",
   "execution_count": 27,
   "id": "a31aa312",
   "metadata": {
    "execution": {
     "iopub.execute_input": "2021-11-30T14:16:23.867961Z",
     "iopub.status.busy": "2021-11-30T14:16:23.867231Z",
     "iopub.status.idle": "2021-11-30T14:16:23.886853Z",
     "shell.execute_reply": "2021-11-30T14:16:23.886229Z",
     "shell.execute_reply.started": "2021-11-30T12:09:29.798519Z"
    },
    "papermill": {
     "duration": 0.085251,
     "end_time": "2021-11-30T14:16:23.887027",
     "exception": false,
     "start_time": "2021-11-30T14:16:23.801776",
     "status": "completed"
    },
    "tags": []
   },
   "outputs": [],
   "source": [
    "for i, j in limit.items():\n",
    "    train = train[train[i] < j]"
   ]
  },
  {
   "cell_type": "code",
   "execution_count": 28,
   "id": "c629dd56",
   "metadata": {
    "execution": {
     "iopub.execute_input": "2021-11-30T14:16:24.017915Z",
     "iopub.status.busy": "2021-11-30T14:16:24.016575Z",
     "iopub.status.idle": "2021-11-30T14:16:24.038573Z",
     "shell.execute_reply": "2021-11-30T14:16:24.037805Z",
     "shell.execute_reply.started": "2021-11-30T12:09:30.788175Z"
    },
    "papermill": {
     "duration": 0.091612,
     "end_time": "2021-11-30T14:16:24.038802",
     "exception": false,
     "start_time": "2021-11-30T14:16:23.947190",
     "status": "completed"
    },
    "tags": []
   },
   "outputs": [],
   "source": [
    "df = pd.concat([train, df[train_id:]])"
   ]
  },
  {
   "cell_type": "markdown",
   "id": "87114c0a",
   "metadata": {
    "papermill": {
     "duration": 0.061443,
     "end_time": "2021-11-30T14:16:24.160376",
     "exception": false,
     "start_time": "2021-11-30T14:16:24.098933",
     "status": "completed"
    },
    "tags": []
   },
   "source": [
    "# **Feature enginneering**"
   ]
  },
  {
   "cell_type": "code",
   "execution_count": 29,
   "id": "c8847c09",
   "metadata": {
    "execution": {
     "iopub.execute_input": "2021-11-30T14:16:24.283121Z",
     "iopub.status.busy": "2021-11-30T14:16:24.282256Z",
     "iopub.status.idle": "2021-11-30T14:16:33.391608Z",
     "shell.execute_reply": "2021-11-30T14:16:33.392179Z",
     "shell.execute_reply.started": "2021-11-30T12:09:32.637792Z"
    },
    "papermill": {
     "duration": 9.172597,
     "end_time": "2021-11-30T14:16:33.392398",
     "exception": false,
     "start_time": "2021-11-30T14:16:24.219801",
     "status": "completed"
    },
    "tags": []
   },
   "outputs": [
    {
     "data": {
      "image/png": "[encoded data removed]",
      "text/plain": [
       "<Figure size 1440x2160 with 37 Axes>"
      ]
     },
     "metadata": {
      "needs_background": "light"
     },
     "output_type": "display_data"
    }
   ],
   "source": [
    "c = 1 \n",
    "nrows = round(len(var_num) / 3) + 1\n",
    "fig = plt.figure(figsize=(20,30))\n",
    "for i in var_num:\n",
    "    plt.subplot(nrows, 3, c)\n",
    "    sns.histplot(df[i])\n",
    "    c += 1 \n",
    "plt.tight_layout()\n",
    "plt.show()"
   ]
  },
  {
   "cell_type": "markdown",
   "id": "348d2708",
   "metadata": {
    "papermill": {
     "duration": 0.063002,
     "end_time": "2021-11-30T14:16:33.521986",
     "exception": false,
     "start_time": "2021-11-30T14:16:33.458984",
     "status": "completed"
    },
    "tags": []
   },
   "source": [
    "Two possible transformations here depending on the distribution of the features : \n",
    "* Bin the values\n",
    "* Transform the feature in a binary feature (for example, has or hasn't a pool)"
   ]
  },
  {
   "cell_type": "code",
   "execution_count": 30,
   "id": "400bb73d",
   "metadata": {
    "execution": {
     "iopub.execute_input": "2021-11-30T14:16:33.655720Z",
     "iopub.status.busy": "2021-11-30T14:16:33.654919Z",
     "iopub.status.idle": "2021-11-30T14:16:33.657757Z",
     "shell.execute_reply": "2021-11-30T14:16:33.658238Z",
     "shell.execute_reply.started": "2021-11-30T12:09:40.258096Z"
    },
    "papermill": {
     "duration": 0.072787,
     "end_time": "2021-11-30T14:16:33.658444",
     "exception": false,
     "start_time": "2021-11-30T14:16:33.585657",
     "status": "completed"
    },
    "tags": []
   },
   "outputs": [],
   "source": [
    "to_bin = ['LotFrontage', 'LotArea', 'YearBuilt', 'YearRemodAdd', 'BsmtUnfSF', 'TotalBsmtSF', '1stFlrSF', 'GrLivArea', 'GarageYrBlt', 'GarageArea']\n",
    "to_binarize = ['MasVnrArea', 'BsmtFinSF1', 'BsmtFinSF2', '2ndFlrSF', 'LowQualFinSF', 'WoodDeckSF', 'OpenPorchSF', 'EnclosedPorch', '3SsnPorch', 'ScreenPorch', 'PoolArea']"
   ]
  },
  {
   "cell_type": "code",
   "execution_count": 31,
   "id": "3744f61b",
   "metadata": {
    "execution": {
     "iopub.execute_input": "2021-11-30T14:16:33.792548Z",
     "iopub.status.busy": "2021-11-30T14:16:33.791864Z",
     "iopub.status.idle": "2021-11-30T14:16:33.794302Z",
     "shell.execute_reply": "2021-11-30T14:16:33.793699Z",
     "shell.execute_reply.started": "2021-11-30T12:09:40.265439Z"
    },
    "papermill": {
     "duration": 0.071932,
     "end_time": "2021-11-30T14:16:33.794454",
     "exception": false,
     "start_time": "2021-11-30T14:16:33.722522",
     "status": "completed"
    },
    "tags": []
   },
   "outputs": [],
   "source": [
    "from sklearn.preprocessing import KBinsDiscretizer\n",
    "from sklearn.preprocessing import Binarizer"
   ]
  },
  {
   "cell_type": "code",
   "execution_count": 32,
   "id": "1af20b79",
   "metadata": {
    "execution": {
     "iopub.execute_input": "2021-11-30T14:16:33.925153Z",
     "iopub.status.busy": "2021-11-30T14:16:33.924477Z",
     "iopub.status.idle": "2021-11-30T14:16:33.927699Z",
     "shell.execute_reply": "2021-11-30T14:16:33.926897Z",
     "shell.execute_reply.started": "2021-11-30T12:09:40.563430Z"
    },
    "papermill": {
     "duration": 0.070687,
     "end_time": "2021-11-30T14:16:33.927857",
     "exception": false,
     "start_time": "2021-11-30T14:16:33.857170",
     "status": "completed"
    },
    "tags": []
   },
   "outputs": [],
   "source": [
    "bins = KBinsDiscretizer(n_bins=4, encode='ordinal', strategy='quantile')"
   ]
  },
  {
   "cell_type": "code",
   "execution_count": 33,
   "id": "6a70703f",
   "metadata": {
    "execution": {
     "iopub.execute_input": "2021-11-30T14:16:34.061698Z",
     "iopub.status.busy": "2021-11-30T14:16:34.061015Z",
     "iopub.status.idle": "2021-11-30T14:16:34.080089Z",
     "shell.execute_reply": "2021-11-30T14:16:34.079491Z",
     "shell.execute_reply.started": "2021-11-30T12:09:42.203309Z"
    },
    "papermill": {
     "duration": 0.088272,
     "end_time": "2021-11-30T14:16:34.080233",
     "exception": false,
     "start_time": "2021-11-30T14:16:33.991961",
     "status": "completed"
    },
    "tags": []
   },
   "outputs": [],
   "source": [
    "df_copy = df.copy()\n",
    "df_copy[to_bin] = bins.fit_transform(df_copy[to_bin])"
   ]
  },
  {
   "cell_type": "code",
   "execution_count": 34,
   "id": "7d20865f",
   "metadata": {
    "execution": {
     "iopub.execute_input": "2021-11-30T14:16:34.213527Z",
     "iopub.status.busy": "2021-11-30T14:16:34.212855Z",
     "iopub.status.idle": "2021-11-30T14:16:36.649282Z",
     "shell.execute_reply": "2021-11-30T14:16:36.649854Z",
     "shell.execute_reply.started": "2021-11-30T12:09:43.291602Z"
    },
    "papermill": {
     "duration": 2.50675,
     "end_time": "2021-11-30T14:16:36.650043",
     "exception": false,
     "start_time": "2021-11-30T14:16:34.143293",
     "status": "completed"
    },
    "tags": []
   },
   "outputs": [
    {
     "data": {
      "text/plain": [
       "0.10318923372707355"
      ]
     },
     "execution_count": 34,
     "metadata": {},
     "output_type": "execute_result"
    }
   ],
   "source": [
    "get_score(df_copy, CatBoostRegressor(verbose=0))"
   ]
  },
  {
   "cell_type": "markdown",
   "id": "b1536585",
   "metadata": {
    "papermill": {
     "duration": 0.063825,
     "end_time": "2021-11-30T14:16:36.777323",
     "exception": false,
     "start_time": "2021-11-30T14:16:36.713498",
     "status": "completed"
    },
    "tags": []
   },
   "source": [
    "Using the bins transformation on these features leads to a worse result\n",
    "\n",
    "Let see the impact on the performance of each transformed feature"
   ]
  },
  {
   "cell_type": "code",
   "execution_count": 35,
   "id": "f6423eba",
   "metadata": {
    "execution": {
     "iopub.execute_input": "2021-11-30T14:16:36.914029Z",
     "iopub.status.busy": "2021-11-30T14:16:36.908520Z",
     "iopub.status.idle": "2021-11-30T14:17:14.219504Z",
     "shell.execute_reply": "2021-11-30T14:17:14.220195Z",
     "shell.execute_reply.started": "2021-11-30T12:09:49.105737Z"
    },
    "papermill": {
     "duration": 37.379195,
     "end_time": "2021-11-30T14:17:14.220467",
     "exception": false,
     "start_time": "2021-11-30T14:16:36.841272",
     "status": "completed"
    },
    "tags": []
   },
   "outputs": [],
   "source": [
    "scoring = get_score(df, CatBoostRegressor(verbose=0))\n",
    "better_feat = []\n",
    "for i in to_bin:\n",
    "    df_copy = df.copy()\n",
    "    df_copy[i] = bins.fit_transform(np.array(df_copy[i]).reshape(-1, 1))\n",
    "    scoring_new = get_score(df_copy, CatBoostRegressor(verbose=0))\n",
    "    if scoring_new < scoring:\n",
    "        better_feat.append(i)"
   ]
  },
  {
   "cell_type": "code",
   "execution_count": 36,
   "id": "a069f24e",
   "metadata": {
    "execution": {
     "iopub.execute_input": "2021-11-30T14:17:14.355207Z",
     "iopub.status.busy": "2021-11-30T14:17:14.354507Z",
     "iopub.status.idle": "2021-11-30T14:17:14.358328Z",
     "shell.execute_reply": "2021-11-30T14:17:14.358817Z",
     "shell.execute_reply.started": "2021-11-30T12:10:20.048875Z"
    },
    "papermill": {
     "duration": 0.074062,
     "end_time": "2021-11-30T14:17:14.359012",
     "exception": false,
     "start_time": "2021-11-30T14:17:14.284950",
     "status": "completed"
    },
    "tags": []
   },
   "outputs": [
    {
     "data": {
      "text/plain": [
       "['LotArea', 'YearRemodAdd', 'BsmtUnfSF', 'GarageYrBlt']"
      ]
     },
     "execution_count": 36,
     "metadata": {},
     "output_type": "execute_result"
    }
   ],
   "source": [
    "better_feat"
   ]
  },
  {
   "cell_type": "code",
   "execution_count": 37,
   "id": "2ed8a67b",
   "metadata": {
    "execution": {
     "iopub.execute_input": "2021-11-30T14:17:14.497823Z",
     "iopub.status.busy": "2021-11-30T14:17:14.497129Z",
     "iopub.status.idle": "2021-11-30T14:17:17.595366Z",
     "shell.execute_reply": "2021-11-30T14:17:17.594482Z",
     "shell.execute_reply.started": "2021-11-30T12:10:24.311059Z"
    },
    "papermill": {
     "duration": 3.172382,
     "end_time": "2021-11-30T14:17:17.595530",
     "exception": false,
     "start_time": "2021-11-30T14:17:14.423148",
     "status": "completed"
    },
    "tags": []
   },
   "outputs": [
    {
     "data": {
      "text/plain": [
       "0.09842335484705651"
      ]
     },
     "execution_count": 37,
     "metadata": {},
     "output_type": "execute_result"
    }
   ],
   "source": [
    "to_bin = ['LotArea', 'YearRemodAdd', 'BsmtUnfSF', 'GarageYrBlt']\n",
    "df[to_bin] = bins.fit_transform(df[to_bin])\n",
    "get_score(df, CatBoostRegressor(verbose=0))"
   ]
  },
  {
   "cell_type": "markdown",
   "id": "177eb3b4",
   "metadata": {
    "papermill": {
     "duration": 0.064457,
     "end_time": "2021-11-30T14:17:17.724379",
     "exception": false,
     "start_time": "2021-11-30T14:17:17.659922",
     "status": "completed"
    },
    "tags": []
   },
   "source": [
    "Same process for the features to binarize"
   ]
  },
  {
   "cell_type": "code",
   "execution_count": 38,
   "id": "3ac5634a",
   "metadata": {
    "execution": {
     "iopub.execute_input": "2021-11-30T14:17:17.858352Z",
     "iopub.status.busy": "2021-11-30T14:17:17.857435Z",
     "iopub.status.idle": "2021-11-30T14:17:17.859999Z",
     "shell.execute_reply": "2021-11-30T14:17:17.860450Z",
     "shell.execute_reply.started": "2021-11-30T12:10:27.180316Z"
    },
    "papermill": {
     "duration": 0.072716,
     "end_time": "2021-11-30T14:17:17.860649",
     "exception": false,
     "start_time": "2021-11-30T14:17:17.787933",
     "status": "completed"
    },
    "tags": []
   },
   "outputs": [],
   "source": [
    "binarizer = Binarizer(threshold=0.5)"
   ]
  },
  {
   "cell_type": "code",
   "execution_count": 39,
   "id": "d4b018d7",
   "metadata": {
    "execution": {
     "iopub.execute_input": "2021-11-30T14:17:17.994531Z",
     "iopub.status.busy": "2021-11-30T14:17:17.993858Z",
     "iopub.status.idle": "2021-11-30T14:17:18.007046Z",
     "shell.execute_reply": "2021-11-30T14:17:18.006459Z",
     "shell.execute_reply.started": "2021-11-30T12:10:27.462306Z"
    },
    "papermill": {
     "duration": 0.081879,
     "end_time": "2021-11-30T14:17:18.007202",
     "exception": false,
     "start_time": "2021-11-30T14:17:17.925323",
     "status": "completed"
    },
    "tags": []
   },
   "outputs": [],
   "source": [
    "df_copy = df.copy()\n",
    "df_copy[to_binarize] = binarizer.fit_transform(df_copy[to_binarize])"
   ]
  },
  {
   "cell_type": "code",
   "execution_count": 40,
   "id": "a43e8955",
   "metadata": {
    "execution": {
     "iopub.execute_input": "2021-11-30T14:17:18.142415Z",
     "iopub.status.busy": "2021-11-30T14:17:18.141742Z",
     "iopub.status.idle": "2021-11-30T14:17:21.004097Z",
     "shell.execute_reply": "2021-11-30T14:17:21.004574Z",
     "shell.execute_reply.started": "2021-11-30T12:10:28.621281Z"
    },
    "papermill": {
     "duration": 2.933555,
     "end_time": "2021-11-30T14:17:21.004824",
     "exception": false,
     "start_time": "2021-11-30T14:17:18.071269",
     "status": "completed"
    },
    "tags": []
   },
   "outputs": [
    {
     "data": {
      "text/plain": [
       "0.09879693084931516"
      ]
     },
     "execution_count": 40,
     "metadata": {},
     "output_type": "execute_result"
    }
   ],
   "source": [
    "get_score(df_copy, CatBoostRegressor(verbose=0))"
   ]
  },
  {
   "cell_type": "code",
   "execution_count": 41,
   "id": "06b5fabb",
   "metadata": {
    "execution": {
     "iopub.execute_input": "2021-11-30T14:17:21.158853Z",
     "iopub.status.busy": "2021-11-30T14:17:21.158096Z",
     "iopub.status.idle": "2021-11-30T14:17:57.434036Z",
     "shell.execute_reply": "2021-11-30T14:17:57.433366Z",
     "shell.execute_reply.started": "2021-11-30T12:10:30.795715Z"
    },
    "papermill": {
     "duration": 36.354791,
     "end_time": "2021-11-30T14:17:57.434221",
     "exception": false,
     "start_time": "2021-11-30T14:17:21.079430",
     "status": "completed"
    },
    "tags": []
   },
   "outputs": [],
   "source": [
    "scoring = get_score(df, CatBoostRegressor(verbose=0))\n",
    "better_feat = []\n",
    "for i in to_binarize:\n",
    "    df_copy = df.copy()\n",
    "    df_copy[i] = binarizer.fit_transform(np.array(df_copy[i]).reshape(-1, 1))\n",
    "    scoring_new = get_score(df_copy, CatBoostRegressor(verbose=0))\n",
    "    if scoring_new < scoring:\n",
    "        better_feat.append(i)"
   ]
  },
  {
   "cell_type": "code",
   "execution_count": 42,
   "id": "29e869b8",
   "metadata": {
    "execution": {
     "iopub.execute_input": "2021-11-30T14:17:57.570387Z",
     "iopub.status.busy": "2021-11-30T14:17:57.569370Z",
     "iopub.status.idle": "2021-11-30T14:17:57.576967Z",
     "shell.execute_reply": "2021-11-30T14:17:57.576275Z",
     "shell.execute_reply.started": "2021-11-30T12:11:01.058422Z"
    },
    "papermill": {
     "duration": 0.077484,
     "end_time": "2021-11-30T14:17:57.577125",
     "exception": false,
     "start_time": "2021-11-30T14:17:57.499641",
     "status": "completed"
    },
    "tags": []
   },
   "outputs": [
    {
     "data": {
      "text/plain": [
       "['PoolArea']"
      ]
     },
     "execution_count": 42,
     "metadata": {},
     "output_type": "execute_result"
    }
   ],
   "source": [
    "better_feat"
   ]
  },
  {
   "cell_type": "code",
   "execution_count": 43,
   "id": "0b0b3133",
   "metadata": {
    "execution": {
     "iopub.execute_input": "2021-11-30T14:17:57.717000Z",
     "iopub.status.busy": "2021-11-30T14:17:57.710988Z",
     "iopub.status.idle": "2021-11-30T14:18:00.849293Z",
     "shell.execute_reply": "2021-11-30T14:18:00.849873Z",
     "shell.execute_reply.started": "2021-11-30T12:11:03.974747Z"
    },
    "papermill": {
     "duration": 3.206817,
     "end_time": "2021-11-30T14:18:00.850092",
     "exception": false,
     "start_time": "2021-11-30T14:17:57.643275",
     "status": "completed"
    },
    "tags": []
   },
   "outputs": [
    {
     "data": {
      "text/plain": [
       "0.09761638367830494"
      ]
     },
     "execution_count": 43,
     "metadata": {},
     "output_type": "execute_result"
    }
   ],
   "source": [
    "to_binarize = ['PoolArea']\n",
    "df[to_binarize] = binarizer.fit_transform(df[to_binarize])\n",
    "get_score(df, CatBoostRegressor(verbose=0), StandardScaler())"
   ]
  },
  {
   "cell_type": "markdown",
   "id": "db0abd07",
   "metadata": {
    "papermill": {
     "duration": 0.065843,
     "end_time": "2021-11-30T14:18:00.981748",
     "exception": false,
     "start_time": "2021-11-30T14:18:00.915905",
     "status": "completed"
    },
    "tags": []
   },
   "source": [
    "# **Hyper parameter optimisation**"
   ]
  },
  {
   "cell_type": "markdown",
   "id": "2c5ce310",
   "metadata": {
    "papermill": {
     "duration": 0.070341,
     "end_time": "2021-11-30T14:18:01.120044",
     "exception": false,
     "start_time": "2021-11-30T14:18:01.049703",
     "status": "completed"
    },
    "tags": []
   },
   "source": [
    "I'll use Optuna rather than grid search"
   ]
  },
  {
   "cell_type": "code",
   "execution_count": 44,
   "id": "3cfea9f1",
   "metadata": {
    "execution": {
     "iopub.execute_input": "2021-11-30T14:18:01.256367Z",
     "iopub.status.busy": "2021-11-30T14:18:01.255414Z",
     "iopub.status.idle": "2021-11-30T14:18:02.166501Z",
     "shell.execute_reply": "2021-11-30T14:18:02.165851Z",
     "shell.execute_reply.started": "2021-11-30T12:11:57.698117Z"
    },
    "papermill": {
     "duration": 0.981099,
     "end_time": "2021-11-30T14:18:02.166708",
     "exception": false,
     "start_time": "2021-11-30T14:18:01.185609",
     "status": "completed"
    },
    "tags": []
   },
   "outputs": [],
   "source": [
    "import optuna\n",
    "from optuna.samplers import TPESampler"
   ]
  },
  {
   "cell_type": "code",
   "execution_count": 45,
   "id": "287402d3",
   "metadata": {
    "execution": {
     "iopub.execute_input": "2021-11-30T14:18:02.300163Z",
     "iopub.status.busy": "2021-11-30T14:18:02.299487Z",
     "iopub.status.idle": "2021-11-30T14:18:02.312281Z",
     "shell.execute_reply": "2021-11-30T14:18:02.311702Z",
     "shell.execute_reply.started": "2021-11-30T12:12:00.793918Z"
    },
    "papermill": {
     "duration": 0.08053,
     "end_time": "2021-11-30T14:18:02.312432",
     "exception": false,
     "start_time": "2021-11-30T14:18:02.231902",
     "status": "completed"
    },
    "tags": []
   },
   "outputs": [],
   "source": [
    "def objective(trial):\n",
    "    param = {\n",
    "        \"loss_function\": trial.suggest_categorical(\"loss_function\", [\"RMSE\", \"MAE\"]),\n",
    "        \"learning_rate\": trial.suggest_loguniform(\"learning_rate\", 1e-5, 1e0),\n",
    "        \"l2_leaf_reg\": trial.suggest_loguniform(\"l2_leaf_reg\", 1e-2, 1e0),\n",
    "        \"colsample_bylevel\": trial.suggest_float(\"colsample_bylevel\", 0.01, 0.1),\n",
    "        \"depth\": trial.suggest_int(\"depth\", 1, 10),\n",
    "        \"boosting_type\": trial.suggest_categorical(\"boosting_type\", [\"Ordered\", \"Plain\"]),\n",
    "        \"bootstrap_type\": trial.suggest_categorical(\"bootstrap_type\", [\"Bayesian\", \"Bernoulli\", \"MVS\"]),\n",
    "        \"min_data_in_leaf\": trial.suggest_int(\"min_data_in_leaf\", 2, 20),\n",
    "        \"one_hot_max_size\": trial.suggest_int(\"one_hot_max_size\", 2, 20),    \n",
    "        'random_state': trial.suggest_categorical('random_state', [6, 9, 12, 15])\n",
    "    }\n",
    "    # Conditional Hyper-Parameters\n",
    "    if param[\"bootstrap_type\"] == \"Bayesian\":\n",
    "        param[\"bagging_temperature\"] = trial.suggest_float(\"bagging_temperature\", 0, 10)\n",
    "    elif param[\"bootstrap_type\"] == \"Bernoulli\":\n",
    "        param[\"subsample\"] = trial.suggest_float(\"subsample\", 0.1, 1)\n",
    "\n",
    "    reg = CatBoostRegressor(**param)\n",
    "    reg.fit(X_train, y_train, eval_set=[(X_test, y_test)], verbose=0, early_stopping_rounds=100)\n",
    "    y_pred = reg.predict(X_test)\n",
    "    score = mean_squared_error(y_test, y_pred, squared=False)        \n",
    "    return score           "
   ]
  },
  {
   "cell_type": "code",
   "execution_count": 46,
   "id": "62a7233f",
   "metadata": {
    "execution": {
     "iopub.execute_input": "2021-11-30T14:18:02.450962Z",
     "iopub.status.busy": "2021-11-30T14:18:02.450266Z",
     "iopub.status.idle": "2021-11-30T14:18:02.532428Z",
     "shell.execute_reply": "2021-11-30T14:18:02.531734Z",
     "shell.execute_reply.started": "2021-11-30T12:12:03.721763Z"
    },
    "papermill": {
     "duration": 0.154434,
     "end_time": "2021-11-30T14:18:02.532573",
     "exception": false,
     "start_time": "2021-11-30T14:18:02.378139",
     "status": "completed"
    },
    "tags": []
   },
   "outputs": [],
   "source": [
    "X, y, df_test = get_data(df)\n",
    "X_train, X_test, y_train, y_test = split(X, y)                                                                      "
   ]
  },
  {
   "cell_type": "code",
   "execution_count": 47,
   "id": "696f79e1",
   "metadata": {
    "execution": {
     "iopub.execute_input": "2021-11-30T14:18:02.670011Z",
     "iopub.status.busy": "2021-11-30T14:18:02.669289Z",
     "iopub.status.idle": "2021-11-30T14:18:02.673271Z",
     "shell.execute_reply": "2021-11-30T14:18:02.672777Z",
     "shell.execute_reply.started": "2021-11-30T12:12:07.641465Z"
    },
    "papermill": {
     "duration": 0.074799,
     "end_time": "2021-11-30T14:18:02.673412",
     "exception": false,
     "start_time": "2021-11-30T14:18:02.598613",
     "status": "completed"
    },
    "tags": []
   },
   "outputs": [
    {
     "data": {
      "text/plain": [
       "' \\n\\nThis will take a lot of time to run\\n\\nstudy = optuna.create_study(sampler=TPESampler(), direction=\"minimize\")\\nstudy.optimize(objective, n_trials=10000, timeout=3600) # Run for 60 minutes     \\nprint(\"Number of completed trials: {}\".format(len(study.trials)))   \\nprint(\"Best trial:\")\\ntrial = study.best_trial      \\n     \\nprint(\"\\tBest Score: {}\".format(trial.value))                                                                 \\nprint(\"\\tBest Params: \")           \\nfor key, value in trial.params.items():\\n    print(\"    {}: {}\".format(key, value))     \\n    \\n'"
      ]
     },
     "execution_count": 47,
     "metadata": {},
     "output_type": "execute_result"
    }
   ],
   "source": [
    "\"\"\" \n",
    "\n",
    "This will take a lot of time to run\n",
    "\n",
    "study = optuna.create_study(sampler=TPESampler(), direction=\"minimize\")\n",
    "study.optimize(objective, n_trials=10000, timeout=3600) # Run for 60 minutes     \n",
    "print(\"Number of completed trials: {}\".format(len(study.trials)))   \n",
    "print(\"Best trial:\")\n",
    "trial = study.best_trial      \n",
    "     \n",
    "print(\"\\tBest Score: {}\".format(trial.value))                                                                 \n",
    "print(\"\\tBest Params: \")           \n",
    "for key, value in trial.params.items():\n",
    "    print(\"    {}: {}\".format(key, value))     \n",
    "    \n",
    "\"\"\""
   ]
  },
  {
   "cell_type": "markdown",
   "id": "5aae405b",
   "metadata": {
    "papermill": {
     "duration": 0.064822,
     "end_time": "2021-11-30T14:18:02.803408",
     "exception": false,
     "start_time": "2021-11-30T14:18:02.738586",
     "status": "completed"
    },
    "tags": []
   },
   "source": [
    "# **Submission**"
   ]
  },
  {
   "cell_type": "code",
   "execution_count": 48,
   "id": "5f9161b5",
   "metadata": {
    "execution": {
     "iopub.execute_input": "2021-11-30T14:18:02.940859Z",
     "iopub.status.busy": "2021-11-30T14:18:02.940144Z",
     "iopub.status.idle": "2021-11-30T14:18:02.943353Z",
     "shell.execute_reply": "2021-11-30T14:18:02.942821Z",
     "shell.execute_reply.started": "2021-11-30T12:12:24.257972Z"
    },
    "papermill": {
     "duration": 0.075035,
     "end_time": "2021-11-30T14:18:02.943510",
     "exception": false,
     "start_time": "2021-11-30T14:18:02.868475",
     "status": "completed"
    },
    "tags": []
   },
   "outputs": [],
   "source": [
    "def get_sub(dataset, model, scaler_func):\n",
    "    \n",
    "    X, y, df_test = get_data(dataset)\n",
    "    \n",
    "    X_train, X_test, y_train, y_test = split(X, y)\n",
    "    \n",
    "    X_train, X_test, df_test = scaler(X_train, X_test, scaler_func, df_test)\n",
    "    \n",
    "    model.fit(X_train, y_train)\n",
    "    \n",
    "    pred = model.predict(df_test)\n",
    "    sub['SalePrice'] = pred\n",
    "    \n",
    "    return sub"
   ]
  },
  {
   "cell_type": "code",
   "execution_count": 49,
   "id": "6620ca06",
   "metadata": {
    "execution": {
     "iopub.execute_input": "2021-11-30T14:18:03.088526Z",
     "iopub.status.busy": "2021-11-30T14:18:03.087854Z",
     "iopub.status.idle": "2021-11-30T14:18:03.847030Z",
     "shell.execute_reply": "2021-11-30T14:18:03.846250Z",
     "shell.execute_reply.started": "2021-11-30T11:57:50.834470Z"
    },
    "papermill": {
     "duration": 0.836307,
     "end_time": "2021-11-30T14:18:03.847194",
     "exception": false,
     "start_time": "2021-11-30T14:18:03.010887",
     "status": "completed"
    },
    "tags": []
   },
   "outputs": [],
   "source": [
    "sub = get_sub(df, \n",
    "    CatBoostRegressor(loss_function='RMSE',\n",
    "                      learning_rate=0.07632340853297458,\n",
    "                      l2_leaf_reg=0.015170633257026214,\n",
    "                      colsample_bylevel=0.0956372937135792,\n",
    "                      depth=4,\n",
    "                      boosting_type='Plain',\n",
    "                      bootstrap_type='MVS',\n",
    "                      min_data_in_leaf=8,\n",
    "                      one_hot_max_size=12,\n",
    "                      verbose=0,\n",
    "                      random_state=12), \n",
    "    RobustScaler())\n",
    "sub.to_csv('submission.csv', index=False)"
   ]
  },
  {
   "cell_type": "markdown",
   "id": "b0a7f410",
   "metadata": {
    "papermill": {
     "duration": 0.066625,
     "end_time": "2021-11-30T14:18:03.979582",
     "exception": false,
     "start_time": "2021-11-30T14:18:03.912957",
     "status": "completed"
    },
    "tags": []
   },
   "source": [
    "Thanks to : \n",
    "https://www.kaggle.com/saurabhshahane/catboost-hyperparameter-tuning-with-optuna\n"
   ]
  }
 ],
 "metadata": {
  "kernelspec": {
   "display_name": "Python 3",
   "language": "python",
   "name": "python3"
  },
  "language_info": {
   "codemirror_mode": {
    "name": "ipython",
    "version": 3
   },
   "file_extension": ".py",
   "mimetype": "text/x-python",
   "name": "python",
   "nbconvert_exporter": "python",
   "pygments_lexer": "ipython3",
   "version": "3.7.10"
  },
  "papermill": {
   "default_parameters": {},
   "duration": 152.869986,
   "end_time": "2021-11-30T14:18:06.527428",
   "environment_variables": {},
   "exception": null,
   "input_path": "__notebook__.ipynb",
   "output_path": "__notebook__.ipynb",
   "parameters": {},
   "start_time": "2021-11-30T14:15:33.657442",
   "version": "2.3.3"
  }
 },
 "nbformat": 4,
 "nbformat_minor": 5
}
